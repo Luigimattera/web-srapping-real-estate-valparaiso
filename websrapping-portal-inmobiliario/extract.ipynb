{
 "cells": [
  {
   "cell_type": "code",
   "execution_count": 33,
   "metadata": {},
   "outputs": [],
   "source": [
    "import requests\n",
    "from bs4 import BeautifulSoup\n",
    "import re\n",
    "from bs4.element import Tag\n",
    "import csv\n",
    "from tqdm import tqdm"
   ]
  },
  {
   "cell_type": "code",
   "execution_count": 34,
   "metadata": {},
   "outputs": [
    {
     "name": "stdout",
     "output_type": "stream",
     "text": [
      "https://www.portalinmobiliario.com/venta/casa/valparaiso\n"
     ]
    }
   ],
   "source": [
    "from urllib.parse import urlparse, parse_qs\n",
    "\n",
    "# Definir opciones para iterar\n",
    "tipos_publicacion = [\"venta\"]\n",
    "tipos_propiedad = [\"casa\"]\n",
    "regiones = [\"valparaiso\"]\n",
    "otras = [\"tarapaca\", \"Antofagasta\", \"Atacama\", \"Coquimbo\", \"Valparaíso\", \"Metropolitana\", \"bernardo-ohiggins\", \"Maule\", \"Ñuble\", \"Biobío\", \"la-Araucania\", \"de-los-rios\", \"Los-Lagos\", \"Aysén\", \"Magallanes\"]\n",
    "\n",
    "# Crear lista con todas las combinaciones posibles de URL\n",
    "urls = []\n",
    "for tipo_pub in tipos_publicacion:\n",
    "    for tipo_prop in tipos_propiedad:\n",
    "        for region in regiones:\n",
    "            path = f\"/{tipo_pub}/{tipo_prop}/{region}\"\n",
    "            url = \"https://www.portalinmobiliario.com\" + path\n",
    "            urls.append(url)\n",
    "\n",
    "# Imprimir las URLs generadas\n",
    "for url in urls:\n",
    "    print(url)\n"
   ]
  },
  {
   "cell_type": "code",
   "execution_count": 35,
   "metadata": {},
   "outputs": [],
   "source": [
    "for url in urls:\n",
    "  # Send a request to the website\n",
    "  response = requests.get(url)"
   ]
  },
  {
   "cell_type": "code",
   "execution_count": 36,
   "metadata": {},
   "outputs": [],
   "source": [
    "for url in urls:\n",
    "  # Parse the HTML content using BeautifulSoup\n",
    "  soup = BeautifulSoup(response.content, \"html.parser\")\n",
    "\n",
    "  # Find all the links to individual property pages\n",
    "  property_links = soup.find_all(\"a\", class_=\"ui-search-result__content-wrapper\")"
   ]
  },
  {
   "cell_type": "code",
   "execution_count": 37,
   "metadata": {},
   "outputs": [
    {
     "name": "stderr",
     "output_type": "stream",
     "text": [
      "Progress: 100%|██████████| 1/1 [25:28<00:00, 1528.96s/it]\n"
     ]
    }
   ],
   "source": [
    "# Crear una lista vacía para almacenar los datos de las propiedades\n",
    "property_data = []\n",
    "\n",
    "for region_url in tqdm(urls, desc=\"Progress\"):\n",
    "    # Send a request to the region page\n",
    "    region_response = requests.get(region_url)\n",
    "    region_soup = BeautifulSoup(region_response.content, \"html.parser\")\n",
    "\n",
    "    # Get the total number of pages for the region\n",
    "    num_pages_string = region_soup.find(\"li\", class_=\"andes-pagination__page-count\").text\n",
    "    num_pages = int(re.search(r'\\d+', num_pages_string).group())\n",
    "\n",
    "    # Loop through each page in the region\n",
    "    for page_num in tqdm(range(1, num_pages + 1), desc=\"Pages\"):\n",
    "        page_url = region_url.replace(\"_NoIndex_True\", f\"_Desde_{(page_num-1)*50}_NoIndex_True\")\n",
    "        page_response = requests.get(page_url)\n",
    "        page_soup = BeautifulSoup(page_response.content, \"html.parser\")\n",
    "\n",
    "        # Find all the property links on the page\n",
    "        property_links = page_soup.find_all(\"a\", class_=\"ui-search-result__content-wrapper\")\n",
    "\n",
    "        # Loop through the property links and extract the information from each page\n",
    "        for link in property_links:\n",
    "            # Get the URL of the property page\n",
    "            property_url = link.get(\"href\")\n",
    "\n",
    "            # Send a request to the property page\n",
    "            property_response = requests.get(property_url, encoding=\"utf-8\")\n",
    "            # Parse the HTML content of the property page\n",
    "            property_soup = BeautifulSoup(property_response.content, \"html.parser\")\n",
    "\n",
    "            # Extract the desired information from the property page\n",
    "            if isinstance(property_soup.find(\"h1\", class_=\"ui-pdp-title\"), Tag) & isinstance(property_soup.find(\"span\", class_=\"andes-money-amount__fraction\"), Tag) & isinstance(property_soup.find(\"div\", class_=\"ui-vip-location\"), Tag) & isinstance(property_soup.find(\"p\", class_=\"ui-pdp-description__content\"), Tag):\n",
    "                property_title = property_soup.find(\"h1\", class_=\"ui-pdp-title\").text\n",
    "                property_price = property_soup.find(\"span\", class_=\"andes-money-amount__fraction\").text\n",
    "                property_location = property_soup.find(\"div\", class_=\"ui-vip-location\").text\n",
    "                #property_description = property_soup.find(\"p\", class_=\"ui-pdp-description__content\").text\n",
    "                # Append the property data to the list\n",
    "                property_data.append({\n",
    "                    \"URL\": property_url,\n",
    "                    \"Title\": property_title,\n",
    "                    \"Price\": property_price,\n",
    "                    \"Location\": property_location,\n",
    "                    #\"Description\": property_description\n",
    "                })\n",
    "\n",
    "# Guardar los datos en un archivo CSV\n",
    "with open(\"property_data.csv\", mode=\"w\", newline=\"\") as file:\n",
    "    writer = csv.DictWriter(file, fieldnames=[\"URL\", \"Title\", \"Price\", \"Location\"])\n",
    "    writer.writeheader()\n",
    "    for row in property_data:\n",
    "        writer.writerow(row)"
   ]
  }
 ],
 "metadata": {
  "kernelspec": {
   "display_name": "Python 3",
   "language": "python",
   "name": "python3"
  },
  "language_info": {
   "codemirror_mode": {
    "name": "ipython",
    "version": 3
   },
   "file_extension": ".py",
   "mimetype": "text/x-python",
   "name": "python",
   "nbconvert_exporter": "python",
   "pygments_lexer": "ipython3",
   "version": "3.10.6"
  },
  "orig_nbformat": 4,
  "vscode": {
   "interpreter": {
    "hash": "9a4f0b1f75230d0685db9f62ea9a74145eb856063afdde202d14c9725e05c010"
   }
  }
 },
 "nbformat": 4,
 "nbformat_minor": 2
}
